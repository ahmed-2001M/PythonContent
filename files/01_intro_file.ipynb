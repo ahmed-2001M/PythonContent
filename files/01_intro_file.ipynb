{
 "cells": [
  {
   "cell_type": "markdown",
   "metadata": {},
   "source": [
    "### 1. Why Work with Files?\n",
    "    Files are used to store data permanently. \n",
    "    Python allows you to read, write, and manipulate files easily.\n",
    "\n",
    "### 2. Types of File Access\n",
    "    There are three basic operations:\n",
    "\n",
    "- Read: Open a file to look at its content.\n",
    "- Write: Create or modify the content of a file.\n",
    "- Append: Add content to an existing file without deleting what's already there.\n",
    "\n",
    "### 3. How to Work with Files in Python\n",
    "`Step 1:` Opening a File\n",
    "Use the `open()` function to open a file."
   ]
  },
  {
   "cell_type": "code",
   "execution_count": 3,
   "metadata": {},
   "outputs": [],
   "source": [
    "file = open(\"example.txt\")  # Opens the file in read mode"
   ]
  },
  {
   "cell_type": "markdown",
   "metadata": {},
   "source": [
    "__Modes:__\n",
    "\n",
    "- `\"r\":` Read mode (default)\n",
    "- `\"w\":` Write mode (overwrites file or creates a new one)\n",
    "- `\"a\":` Append mode (adds content to the end)\n",
    "- `\"rb\" / \"wb\"`: Read/write in binary mode (for images, videos, etc.)\n"
   ]
  },
  {
   "cell_type": "code",
   "execution_count": 21,
   "metadata": {},
   "outputs": [],
   "source": [
    "# create and write in file \n",
    "file = open(\"example.txt\", \"w\")\n",
    "file.close()"
   ]
  },
  {
   "cell_type": "code",
   "execution_count": 23,
   "metadata": {},
   "outputs": [],
   "source": [
    "# write in file \n",
    "file = open(\"example.txt\", \"w\")\n",
    "file.write(\"Hello World\\n\")\n",
    "name = \"ahmed\"\n",
    "file.write(f\"Welcome {name}\")\n",
    "file.close()"
   ]
  },
  {
   "cell_type": "code",
   "execution_count": 22,
   "metadata": {},
   "outputs": [
    {
     "name": "stdout",
     "output_type": "stream",
     "text": [
      "\n"
     ]
    }
   ],
   "source": [
    "# Opens the file in read mode\n",
    "file = open(\"example.txt\", \"r\")  \n",
    "print(file.read())\n",
    "file.close()"
   ]
  },
  {
   "cell_type": "code",
   "execution_count": 24,
   "metadata": {},
   "outputs": [],
   "source": [
    "# Read image\n",
    "from PIL import Image\n",
    "import io\n",
    "\n",
    "file = open(\"ts.jpeg\", \"rb\")\n",
    "image = Image.open(io.BytesIO(file.read()))\n",
    "image.show()"
   ]
  },
  {
   "cell_type": "code",
   "execution_count": 17,
   "metadata": {},
   "outputs": [
    {
     "name": "stdout",
     "output_type": "stream",
     "text": [
      "example.txt\n",
      "r\n"
     ]
    }
   ],
   "source": [
    "file = open(\"example.txt\")\n",
    "print(file.name)\n",
    "print(file.mode)\n",
    "file.close()"
   ]
  }
 ],
 "metadata": {
  "kernelspec": {
   "display_name": "home",
   "language": "python",
   "name": "python3"
  },
  "language_info": {
   "codemirror_mode": {
    "name": "ipython",
    "version": 3
   },
   "file_extension": ".py",
   "mimetype": "text/x-python",
   "name": "python",
   "nbconvert_exporter": "python",
   "pygments_lexer": "ipython3",
   "version": "3.11.10"
  }
 },
 "nbformat": 4,
 "nbformat_minor": 2
}
