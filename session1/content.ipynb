{
 "cells": [
  {
   "cell_type": "markdown",
   "metadata": {},
   "source": [
    "## **Agenda**\n",
    "- Variables\n",
    "  - Naming Variables\n",
    "  - Assigning Values to Variables\n",
    "  - Multiple Assignment\n",
    "  - Variable Reassignment\n",
    "  - Checking Variable Types\n",
    "- input & output"
   ]
  },
  {
   "cell_type": "markdown",
   "metadata": {},
   "source": [
    "-----"
   ]
  },
  {
   "cell_type": "markdown",
   "metadata": {},
   "source": [
    "### **1. Variable Definition**\n",
    "- **Syntax:** variable_name = value"
   ]
  },
  {
   "cell_type": "code",
   "execution_count": null,
   "metadata": {},
   "outputs": [],
   "source": [
    "name = \"Alice\"    # String\n",
    "age = 20          # Integer\n",
    "height = 5.4      # Float\n",
    "is_emplo"
   ]
  },
  {
   "cell_type": "markdown",
   "metadata": {},
   "source": [
    "\n",
    "### **2. Naming Variables**\n",
    "#### **Rules for Naming Variables**\n",
    "- **Must start with a letter or underscore (_). You can’t start a variable name with a number.**\n",
    "- **Can contain letters, numbers, and underscores but no spaces or special characters.**\n",
    "- **Case-sensitive: myVar and myvar are two different variables.**"
   ]
  },
  {
   "cell_type": "code",
   "execution_count": 12,
   "metadata": {},
   "outputs": [],
   "source": [
    "### Valid names\n",
    "\n",
    "name = \"Ahmed\"        \n",
    "_age = 25            \n",
    "height_cm = 170       \n",
    "user1 = \"John\"        \n"
   ]
  },
  {
   "cell_type": "code",
   "execution_count": 11,
   "metadata": {},
   "outputs": [
    {
     "ename": "SyntaxError",
     "evalue": "invalid decimal literal (1545044749.py, line 3)",
     "output_type": "error",
     "traceback": [
      "\u001b[0;36m  Cell \u001b[0;32mIn[11], line 3\u001b[0;36m\u001b[0m\n\u001b[0;31m    1user = \"Ahmed\"        #starts with a number\u001b[0m\n\u001b[0m    ^\u001b[0m\n\u001b[0;31mSyntaxError\u001b[0m\u001b[0;31m:\u001b[0m invalid decimal literal\n"
     ]
    }
   ],
   "source": [
    "### invalid names\n",
    "\n",
    "1user = \"Ahmed\"        #starts with a number\n",
    "user-name = \"Ahmed\"    #contains a hyphen\n",
    "user name = \"Ahmed\"    #contains a space\n"
   ]
  },
  {
   "cell_type": "markdown",
   "metadata": {},
   "source": [
    "### Best Practices for Naming Variables\n",
    "- **Use meaningful names that describe the data they store, like age, total_price, or user_name.**\n",
    "- **Avoid single-letter names (except in simple cases like loop counters).**\n",
    "- **Follow snake_case (words separated by underscores) for variable names in Python, e.g., my_variable_name, to make code readable.**"
   ]
  },
  {
   "cell_type": "code",
   "execution_count": null,
   "metadata": {},
   "outputs": [],
   "source": [
    "my_var_name = \"Value\" # Snake case"
   ]
  },
  {
   "cell_type": "markdown",
   "metadata": {},
   "source": [
    "### **3. Assigning Values to Variables**\n",
    "**To assign a value to a variable, use the = operator. The variable goes on the left side, and the value goes on the righ**"
   ]
  },
  {
   "cell_type": "code",
   "execution_count": null,
   "metadata": {},
   "outputs": [],
   "source": [
    "# Assigning different data types to variables\n",
    "age = 30                # integer\n",
    "height = 5.9            # float\n",
    "name = \"Alice\"          # string\n",
    "is_student = True       # boolean\n"
   ]
  },
  {
   "cell_type": "markdown",
   "metadata": {},
   "source": [
    "### **4. Multiple Assignment**\n",
    "**You can assign values to multiple variables in a single line. This is useful when initializing several variables at once.**"
   ]
  },
  {
   "cell_type": "code",
   "execution_count": 17,
   "metadata": {},
   "outputs": [
    {
     "name": "stdout",
     "output_type": "stream",
     "text": [
      "age: 30\n",
      "height: 5.9\n",
      "name: Alice\n",
      "is_student: True\n"
     ]
    }
   ],
   "source": [
    "age, height, name, is_student = 30, 5.9, \"Alice\", True\n",
    "\n",
    "x=y= 5\n",
    "\n",
    "print(\"age: {}\".format(age))\n",
    "print(\"height: {}\".format(height))\n",
    "print(\"name: \" + name)\n",
    "print(\"is_student: {}\".format(is_student))\n",
    "\n"
   ]
  },
  {
   "cell_type": "markdown",
   "metadata": {},
   "source": [
    "### **5. Variable Reassignment**\n",
    "- **You can reassign variables to change their value. In Python, variables can change types too.**\n"
   ]
  },
  {
   "cell_type": "code",
   "execution_count": 19,
   "metadata": {},
   "outputs": [
    {
     "name": "stdout",
     "output_type": "stream",
     "text": [
      "10\n",
      "15\n",
      "fifteen\n"
     ]
    }
   ],
   "source": [
    "number = 10\n",
    "print(number)  # Output: 10\n",
    "\n",
    "number = 15\n",
    "print(number)  # Output: 15\n",
    "\n",
    "number = \"fifteen\"\n",
    "print(number)  # Output: fifteen\n"
   ]
  },
  {
   "cell_type": "code",
   "execution_count": null,
   "metadata": {},
   "outputs": [],
   "source": []
  },
  {
   "cell_type": "markdown",
   "metadata": {},
   "source": [
    "## **Input & Output**"
   ]
  },
  {
   "cell_type": "markdown",
   "metadata": {},
   "source": [
    "### **Printing Output**\n",
    "- 1.Using `print()`\n",
    "  - The `print()` function allows us to display text or variable values on the screen.\n",
    "  - Syntax: `print(value)`\n"
   ]
  },
  {
   "cell_type": "code",
   "execution_count": null,
   "metadata": {},
   "outputs": [],
   "source": [
    "print(\"Hello, World!\")"
   ]
  },
  {
   "cell_type": "markdown",
   "metadata": {},
   "source": [
    " **2.Printing Variables**\n",
    "\n",
    "- **You can print variables directly or with text.**"
   ]
  },
  {
   "cell_type": "code",
   "execution_count": 43,
   "metadata": {},
   "outputs": [
    {
     "name": "stdout",
     "output_type": "stream",
     "text": [
      "10\n",
      "Your Age is: 10\n"
     ]
    }
   ],
   "source": [
    "age = 10\n",
    "print(age)\n",
    "print(\"Your Age is:\", age)"
   ]
  },
  {
   "cell_type": "markdown",
   "metadata": {},
   "source": [
    "**3.Using f-strings for Formatting (Optional for beginners)**\n",
    "\n",
    "- **F-strings make it easy to include variables within a string.**\n",
    "- **Syntax: f\"text {variable}\"**\n"
   ]
  },
  {
   "cell_type": "code",
   "execution_count": 44,
   "metadata": {},
   "outputs": [
    {
     "name": "stdout",
     "output_type": "stream",
     "text": [
      "My name is Ahmed and I am 23 years old.\n"
     ]
    }
   ],
   "source": [
    "name = \"Ahmed\"\n",
    "age = 23\n",
    "print(f\"My name is {name} and I am {age} years old.\")\n"
   ]
  },
  {
   "cell_type": "markdown",
   "metadata": {},
   "source": [
    "## **Getting User Input**\n",
    "\n",
    "- **1.Using `input()`**\n",
    "  - **`input()` allows us to take input from the user.**\n",
    "  - **Syntax: variable = `input(\"Prompt message\")`**\n"
   ]
  },
  {
   "cell_type": "code",
   "execution_count": 46,
   "metadata": {},
   "outputs": [
    {
     "name": "stdout",
     "output_type": "stream",
     "text": [
      "Hello, Ahmed\n"
     ]
    }
   ],
   "source": [
    "name = input(\"Enter your name: \")\n",
    "print(\"Hello,\", name)\n"
   ]
  },
  {
   "cell_type": "code",
   "execution_count": 51,
   "metadata": {},
   "outputs": [
    {
     "name": "stdout",
     "output_type": "stream",
     "text": [
      "Type of name: <class 'str'> value: Ahmed\n",
      "Type of name: <class 'str'> value: 23\n",
      "Type of name: <class 'str'> value 172.5\n"
     ]
    }
   ],
   "source": [
    "name = input(\"Enter your name: \")\n",
    "age = input(\"Enter Your age: \")\n",
    "hight = input(\"Enter Your hight: \")\n",
    "print(\"Type of name:\", type(name), \"value:\",name)\n",
    "print(\"Type of name:\", type(age), \"value:\", age)\n",
    "print(\"Type of name:\", type(hight), \"value:\", hight)\n"
   ]
  },
  {
   "cell_type": "code",
   "execution_count": 52,
   "metadata": {},
   "outputs": [
    {
     "name": "stdout",
     "output_type": "stream",
     "text": [
      "Type of name: <class 'str'> value: Ahmed\n",
      "Type of name: <class 'int'> value: 23\n",
      "Type of name: <class 'float'> value: 172.5\n"
     ]
    }
   ],
   "source": [
    "### Casting \n",
    "\n",
    "name = str(input(\"Enter your name: \"))\n",
    "age = int(input(\"Enter Your age: \"))\n",
    "hight = float(input(\"Enter Your hight: \"))\n",
    "print(\"Type of name:\", type(name), \"value:\",name)\n",
    "print(\"Type of name:\", type(age), \"value:\",age)\n",
    "print(\"Type of name:\", type(hight), \"value:\",hight)"
   ]
  },
  {
   "cell_type": "code",
   "execution_count": 45,
   "metadata": {},
   "outputs": [
    {
     "name": "stdout",
     "output_type": "stream",
     "text": [
      "Hello, Ahmed!\n",
      "Next year, you’ll be 24 years old.\n",
      "Your height is 172.0 meters.\n"
     ]
    }
   ],
   "source": [
    "# Getting a string input\n",
    "name = input(\"Enter your name: \")\n",
    "print(\"Hello, \" + name + \"!\")\n",
    "\n",
    "# Getting an integer input\n",
    "age = int(input(\"Enter your age: \"))\n",
    "print(\"Next year, you’ll be\", age + 1, \"years old.\")\n",
    "\n",
    "# Getting a float input\n",
    "height = float(input(\"Enter your height in meters: \"))\n",
    "print(\"Your height is\", height, \"meters.\")"
   ]
  }
 ],
 "metadata": {
  "kernelspec": {
   "display_name": "home",
   "language": "python",
   "name": "python3"
  },
  "language_info": {
   "codemirror_mode": {
    "name": "ipython",
    "version": 3
   },
   "file_extension": ".py",
   "mimetype": "text/x-python",
   "name": "python",
   "nbconvert_exporter": "python",
   "pygments_lexer": "ipython3",
   "version": "3.12.1"
  }
 },
 "nbformat": 4,
 "nbformat_minor": 2
}
