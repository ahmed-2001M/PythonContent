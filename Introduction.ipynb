{
 "cells": [
  {
   "cell_type": "markdown",
   "metadata": {},
   "source": [
    "# Introduction\n",
    "\n",
    "### **Introduction to Programming : Section 1 Notes**\n",
    "\n",
    "---\n",
    "\n",
    "### **1. Compiler vs. Interpreter**\n",
    "\n",
    "- **Compiler**: A program that translates **high-level code** (written by humans) into **machine code** (understood by computers). The entire program is compiled at once, creating an executable file. Examples: C, C++.\n",
    "- **Interpreter**: A program that reads and executes code **line by line** without producing an intermediate file. Python uses an interpreter. This makes it easier to identify errors but slower than compiled languages for large programs.\n",
    "\n",
    "---\n",
    "\n",
    "### **2. RAM, Hard Drive, and ROM**\n",
    "\n",
    "- **RAM (Random Access Memory)**: This is the computer’s **short-term memory**. It temporarily stores the data and instructions that the CPU needs to access quickly while running programs. RAM is **volatile**, meaning its contents are lost when the computer is turned off.\n",
    "- **Hard Drive**: This is the computer’s **long-term storage**. It stores data permanently (until deleted), such as documents, applications, and operating systems. It is **non-volatile**.\n",
    "- **ROM (Read-Only Memory)**: It stores permanent data that cannot be modified easily. This is often used for firmware or critical startup instructions like the BIOS.\n",
    "\n",
    "---\n",
    "\n",
    "### **3. Running Program vs. Closed Program**\n",
    "\n",
    "- **Running Program**: When a program runs, it is loaded from the hard drive into RAM. The CPU executes the program instructions while the data is temporarily stored in RAM.\n",
    "- **Closed Program**: When a program is closed, it is no longer executed by the CPU, and its data is removed from RAM. If changes were saved, they are stored on the hard drive.\n",
    "\n",
    "---\n",
    "\n",
    "### **4. How Variables Are Saved in Memory**\n",
    "\n",
    "- A **variable** is a way to store data in programming. When a variable is created, the system allocates space in RAM to hold the variable’s value. Each variable has a unique **memory address**.\n",
    "- Variables can store different types of data like numbers (`int`), decimals (`float`), and text (`str`). The type of variable determines how much memory is allocated."
   ]
  },
  {
   "cell_type": "code",
   "execution_count": null,
   "metadata": {},
   "outputs": [],
   "source": [
    "name = \"ahmed\"     # String\n",
    "age = 10           # integer\n",
    "is_employed = True # boolean\n",
    "salary = 10.5      # Float\n",
    "friends = [\"abdallah\", \"khaled\", \"mohamed\"]  # list of strings    Note --->  `you can create list of integers and so on`"
   ]
  }
 ],
 "metadata": {
  "language_info": {
   "name": "python"
  }
 },
 "nbformat": 4,
 "nbformat_minor": 2
}
