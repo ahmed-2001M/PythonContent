{
 "cells": [
  {
   "cell_type": "markdown",
   "metadata": {},
   "source": [
    "**Problem 1:Reverse the String**\n",
    "\n",
    "**Input:** : hello\n",
    "\n",
    "__Output:__ : olleh"
   ]
  },
  {
   "cell_type": "code",
   "execution_count": null,
   "metadata": {},
   "outputs": [],
   "source": []
  },
  {
   "cell_type": "markdown",
   "metadata": {},
   "source": [
    "**Problem 2: Count Vowels**\n",
    "\n",
    "**Count the number of vowels (a, e, i, o, u) in a given string.**\n",
    "\n",
    "**Input:** : Hello World    \n",
    "\n",
    "**Output:** : 3"
   ]
  },
  {
   "cell_type": "code",
   "execution_count": null,
   "metadata": {},
   "outputs": [],
   "source": []
  },
  {
   "cell_type": "markdown",
   "metadata": {},
   "source": [
    "**Problem 3: List Sum**\n",
    "\n",
    "**Given N numbers in a list, calculate their sum.**\n",
    "\n",
    "**Input:** : [1, 2, 3, 4, 5]\n",
    "\n",
    "**Output:** : 15"
   ]
  },
  {
   "cell_type": "code",
   "execution_count": null,
   "metadata": {},
   "outputs": [],
   "source": []
  },
  {
   "cell_type": "markdown",
   "metadata": {},
   "source": [
    "**Problem 4: Find Maximum**\n",
    "\n",
    "**Find the maximum number in a list of N numbers.**\n",
    "\n",
    "**Input:** : [10, 20, 30, 40, 50]\n",
    "\n",
    "**Output:** : 50"
   ]
  },
  {
   "cell_type": "code",
   "execution_count": null,
   "metadata": {},
   "outputs": [],
   "source": []
  },
  {
   "cell_type": "markdown",
   "metadata": {},
   "source": [
    "**Problem 5: Count Words**\n",
    "\n",
    "**Count the number of words in a sentence.**\n",
    "\n",
    "**Input:** : Python is awesome\n",
    "\n",
    "**Output:** : 3"
   ]
  },
  {
   "cell_type": "code",
   "execution_count": null,
   "metadata": {},
   "outputs": [],
   "source": []
  },
  {
   "cell_type": "markdown",
   "metadata": {},
   "source": [
    "**Problem 6: Palindrome Check**\n",
    "\n",
    "**Check if a given string is a palindrome (reads same forwards and backwards).**\n",
    "\n",
    "**Input:** : madam\n",
    "\n",
    "**Output:** : True"
   ]
  },
  {
   "cell_type": "code",
   "execution_count": null,
   "metadata": {},
   "outputs": [],
   "source": []
  },
  {
   "cell_type": "markdown",
   "metadata": {},
   "source": [
    "**Problem 7: Remove Spaces**\n",
    "\n",
    "**Remove all spaces from a given string.**\n",
    "\n",
    "**Input:** : Hello World Python\n",
    "\n",
    "**Output:** : HelloWorldPython"
   ]
  },
  {
   "cell_type": "code",
   "execution_count": null,
   "metadata": {},
   "outputs": [],
   "source": []
  },
  {
   "cell_type": "markdown",
   "metadata": {},
   "source": [
    "**Problem 8: Even Numbers List**\n",
    "\n",
    "**Given N numbers, print only the even numbers.**\n",
    "\n",
    "**Input:** : [1, 2, 3, 4, 5, 6, 7, 8, 9, 10]\n",
    "\n",
    "**Output:** : 2 4 6 8 10"
   ]
  },
  {
   "cell_type": "code",
   "execution_count": null,
   "metadata": {},
   "outputs": [],
   "source": []
  },
  {
   "cell_type": "markdown",
   "metadata": {},
   "source": [
    "**Problem 9: String Repetition**\n",
    "\n",
    "**Print each character of a string N times.**\n",
    "\n",
    "**Input:** :\n",
    "abc\n",
    "3\n",
    "\n",
    "\n",
    "**Output:** : aaabbbccc\n"
   ]
  },
  {
   "cell_type": "markdown",
   "metadata": {},
   "source": []
  }
 ],
 "metadata": {
  "kernelspec": {
   "display_name": "home",
   "language": "python",
   "name": "python3"
  },
  "language_info": {
   "codemirror_mode": {
    "name": "ipython",
    "version": 3
   },
   "file_extension": ".py",
   "mimetype": "text/x-python",
   "name": "python",
   "nbconvert_exporter": "python",
   "pygments_lexer": "ipython3",
   "version": "3.12.1"
  }
 },
 "nbformat": 4,
 "nbformat_minor": 2
}
